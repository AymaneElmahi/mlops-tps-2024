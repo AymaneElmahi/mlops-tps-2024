{
 "cells": [
  {
   "cell_type": "code",
   "execution_count": 2,
   "metadata": {},
   "outputs": [],
   "source": [
    "# get the images from the folder, and extract the features from the images\n",
    "source_folder = 'images_data/'"
   ]
  },
  {
   "cell_type": "code",
   "execution_count": 3,
   "metadata": {},
   "outputs": [],
   "source": [
    "import os\n",
    "import cv2\n",
    "import numpy as np\n",
    "import matplotlib.pyplot as plt"
   ]
  },
  {
   "cell_type": "code",
   "execution_count": 4,
   "metadata": {},
   "outputs": [
    {
     "name": "stdout",
     "output_type": "stream",
     "text": [
      "Valeurs uniques des pixels :\n",
      "[ 0  1  2  3  4  5  6  7  8  9 10 11 12 13 14 15 16 17 18 19 20 21]\n"
     ]
    }
   ],
   "source": [
    "import cv2\n",
    "import numpy as np\n",
    "\n",
    "# Charger l'image\n",
    "image = cv2.imread(os.path.join(source_folder, 'image_.jpg'))\n",
    "\n",
    "# Convertir l'image en niveaux de gris\n",
    "gray_image = cv2.cvtColor(image, cv2.COLOR_BGR2GRAY)\n",
    "\n",
    "# Obtenir les valeurs uniques des pixels\n",
    "unique_pixel_values = np.unique(gray_image)\n",
    "\n",
    "# Afficher les valeurs uniques\n",
    "print(\"Valeurs uniques des pixels :\")\n",
    "print(unique_pixel_values)\n",
    "\n",
    "\n"
   ]
  },
  {
   "cell_type": "code",
   "execution_count": 5,
   "metadata": {},
   "outputs": [
    {
     "name": "stdout",
     "output_type": "stream",
     "text": [
      "Unique grayscale values in the mask:\n",
      "[ 0  1  2  3  4  5  6  7  8  9 10 11 12 13 14 15 16 17 18 19 20 21]\n"
     ]
    },
    {
     "data": {
      "image/png": "[encoded data removed]",
      "text/plain": [
       "<Figure size 640x480 with 1 Axes>"
      ]
     },
     "metadata": {},
     "output_type": "display_data"
    },
    {
     "data": {
      "image/png": "[encoded data removed]",
      "text/plain": [
       "<Figure size 640x480 with 1 Axes>"
      ]
     },
     "metadata": {},
     "output_type": "display_data"
    }
   ],
   "source": [
    "import cv2\n",
    "import numpy as np\n",
    "\n",
    "source_folder = 'images_data/'\n",
    "# Load your grayscale mask image\n",
    "gray_mask = cv2.imread(os.path.join(source_folder, 'image_.jpg'), cv2.IMREAD_GRAYSCALE)\n",
    "\n",
    "# Get unique pixel values in the grayscale image\n",
    "unique_values = np.unique(gray_mask)\n",
    "\n",
    "# Print the unique grayscale values\n",
    "print(\"Unique grayscale values in the mask:\")\n",
    "print(unique_values)\n",
    "\n",
    "\n",
    "pixels_equal_to = gray_mask == 17\n",
    "\n",
    "# Show the binary mask\n",
    "plt.imshow(pixels_equal_to, cmap='gray')\n",
    "plt.axis('off')\n",
    "plt.show()\n",
    "\n",
    "# get contour of the mask of pixel value 4\n",
    "contours, hierarchy = cv2.findContours(pixels_equal_to.astype('uint8'), cv2.RETR_EXTERNAL, cv2.CHAIN_APPROX_SIMPLE)\n",
    "\n",
    "# Draw the contour on the mask image, show the contour on an empty image\n",
    "contour_image = np.zeros(gray_mask.shape)\n",
    "cv2.drawContours(contour_image, contours, -1, (255, 255, 255), 3)\n",
    "\n",
    "# from the contour, only keep the largest contour\n",
    "# Get the largest contour\n",
    "max_contour = max(contours, key=cv2.contourArea)\n",
    "\n",
    "# Create an empty image to draw the largest contour\n",
    "max_contour_image = np.zeros(gray_mask.shape)\n",
    "\n",
    "# Draw the largest contour\n",
    "cv2.drawContours(max_contour_image, [max_contour], -1, (255, 255, 255), 3)\n",
    "\n",
    "# get the bounding box of the largest contour\n",
    "x, y, w, h = cv2.boundingRect(max_contour)\n",
    "\n",
    "# Draw the bounding box\n",
    "bounding_box_image = cv2.rectangle(max_contour_image, (x, y), (x + w, y + h), (255, 255, 255), 2)\n",
    "polygon_contour = max_contour.squeeze()\n",
    "\n",
    "# Draw the polygon contour\n",
    "polygon_contour_image = np.zeros(gray_mask.shape)\n",
    "cv2.polylines(polygon_contour_image, [polygon_contour], True, (255, 255, 255), 2)\n",
    "\n",
    "# Show the polygon contour\n",
    "plt.imshow(polygon_contour_image, cmap='gray')\n",
    "plt.axis('off')\n",
    "plt.show()\n",
    "\n",
    "    "
   ]
  },
  {
   "cell_type": "code",
   "execution_count": 57,
   "metadata": {},
   "outputs": [],
   "source": [
    "def mask_to_yolo(mask_path, label_map, output_path):\n",
    "    mask = cv2.imread(mask_path, cv2.IMREAD_GRAYSCALE)\n",
    "    \n",
    "    for pixel_value in range(1, len(label_map)):\n",
    "        pixels_equal_to = mask == pixel_value\n",
    "        contours, hierarchy = cv2.findContours(pixels_equal_to.astype('uint8'), cv2.RETR_EXTERNAL, cv2.CHAIN_APPROX_SIMPLE)\n",
    "        \n",
    "        if contours:\n",
    "            max_contour = max(contours, key=cv2.contourArea)\n",
    "            polygon_contour = max_contour.squeeze()\n",
    "            polygon_contour = polygon_contour.tolist()\n",
    "            polygon_contour = [[x, y] for x, y in polygon_contour]\n",
    "            normalized_polygon_contour = [[x / mask.shape[1], y / mask.shape[0]] for x, y in polygon_contour]\n",
    "            \n",
    "            with open(output_path, 'a') as f:  # Open the file in append mode\n",
    "                f.write(f'{pixel_value} ')\n",
    "                for x, y in normalized_polygon_contour:\n",
    "                    f.write(f'{x} {y} ')\n",
    "                f.write('\\n')\n",
    "\n",
    "# Example usage\n",
    "label_map = {\n",
    "    \"0\": \"Background\", \"1\": \"Hat\", \"2\": \"Hair\", \"3\": \"Sunglasses\",\n",
    "    \"4\": \"Upper-clothes\", \"5\": \"Skirt\", \"6\": \"Pants\", \"7\": \"Dress\",\n",
    "    \"8\": \"Belt\", \"9\": \"Left-shoe\", \"10\": \"Right-shoe\", \"11\": \"Face\",\n",
    "    \"12\": \"Left-leg\", \"13\": \"Right-leg\", \"14\": \"Left-arm\", \"15\": \"Right-arm\",\n",
    "    \"16\": \"Bag\", \"17\": \"Scarf\"\n",
    "}\n",
    "\n",
    "mask_to_yolo('images_data/image_.jpg', label_map, 'images_data/image_.txt')\n"
   ]
  }
 ],
 "metadata": {
  "kernelspec": {
   "display_name": "Python 3",
   "language": "python",
   "name": "python3"
  },
  "language_info": {
   "codemirror_mode": {
    "name": "ipython",
    "version": 3
   },
   "file_extension": ".py",
   "mimetype": "text/x-python",
   "name": "python",
   "nbconvert_exporter": "python",
   "pygments_lexer": "ipython3",
   "version": "3.11.0"
  }
 },
 "nbformat": 4,
 "nbformat_minor": 2
}
